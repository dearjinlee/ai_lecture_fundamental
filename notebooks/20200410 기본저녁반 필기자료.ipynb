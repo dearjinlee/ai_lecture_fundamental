{
 "cells": [
  {
   "cell_type": "markdown",
   "metadata": {
    "toc": true
   },
   "source": [
    "<h1>Table of Contents<span class=\"tocSkip\"></span></h1>\n",
    "<div class=\"toc\"><ul class=\"toc-item\"><li><span><a href=\"#keras의-CNN모델과-scikit-learn-연동하기\" data-toc-modified-id=\"keras의-CNN모델과-scikit-learn-연동하기-1\"><span class=\"toc-item-num\">1&nbsp;&nbsp;</span>keras의 CNN모델과 scikit-learn 연동하기</a></span><ul class=\"toc-item\"><li><span><a href=\"#KerasClassifier\" data-toc-modified-id=\"KerasClassifier-1.1\"><span class=\"toc-item-num\">1.1&nbsp;&nbsp;</span>KerasClassifier</a></span></li><li><span><a href=\"#learning_curve와-연동\" data-toc-modified-id=\"learning_curve와-연동-1.2\"><span class=\"toc-item-num\">1.2&nbsp;&nbsp;</span>learning_curve와 연동</a></span></li><li><span><a href=\"#GridSearchCV와-연동\" data-toc-modified-id=\"GridSearchCV와-연동-1.3\"><span class=\"toc-item-num\">1.3&nbsp;&nbsp;</span>GridSearchCV와 연동</a></span></li></ul></li></ul></div>"
   ]
  },
  {
   "cell_type": "markdown",
   "metadata": {},
   "source": [
    "# [AI 오픈 이노베이션] 기본 저녁반<a class=\"tocSkip\">\n",
    "GitHub link: [https://github.com/realblack0/ai_lecture_fundamental](https://github.com/realblack0/ai_lecture_fundamental)  \n",
    "E-Mail: realblack0@gmail.com"
   ]
  },
  {
   "cell_type": "markdown",
   "metadata": {},
   "source": [
    "## keras의 CNN모델과 scikit-learn 연동하기"
   ]
  },
  {
   "cell_type": "markdown",
   "metadata": {},
   "source": [
    "### KerasClassifier"
   ]
  },
  {
   "cell_type": "code",
   "execution_count": 1,
   "metadata": {},
   "outputs": [],
   "source": [
    "import tensorflow as tf"
   ]
  },
  {
   "cell_type": "code",
   "execution_count": 5,
   "metadata": {},
   "outputs": [],
   "source": [
    "from tensorflow.keras.wrappers.scikit_learn import KerasClassifier"
   ]
  },
  {
   "cell_type": "markdown",
   "metadata": {},
   "source": [
    "데이터를 가져온다."
   ]
  },
  {
   "cell_type": "code",
   "execution_count": 2,
   "metadata": {},
   "outputs": [],
   "source": [
    "(X_train, y_train), (X_test, y_test) = tf.keras.datasets.mnist.load_data()"
   ]
  },
  {
   "cell_type": "code",
   "execution_count": 3,
   "metadata": {},
   "outputs": [],
   "source": [
    "X_train = X_train/255.\n",
    "X_test = X_test/255."
   ]
  },
  {
   "cell_type": "code",
   "execution_count": 4,
   "metadata": {},
   "outputs": [],
   "source": [
    "X_train = X_train.reshape(60000, 28, 28, 1)\n",
    "X_test = X_test.reshape(-1, 28, 28, 1)"
   ]
  },
  {
   "cell_type": "markdown",
   "metadata": {},
   "source": [
    "모델 만드는 함수를 만든다."
   ]
  },
  {
   "cell_type": "code",
   "execution_count": 5,
   "metadata": {},
   "outputs": [],
   "source": [
    "def build_model():\n",
    "    cnn_model = tf.keras.Sequential([\n",
    "        tf.keras.layers.Conv2D(16, (3,3), activation=\"relu\", input_shape=(28,28,1)),\n",
    "        tf.keras.layers.MaxPool2D((2,2)),\n",
    "        tf.keras.layers.Conv2D(32, (3,3), activation=\"relu\"),\n",
    "        tf.keras.layers.MaxPool2D((2,2)),\n",
    "        tf.keras.layers.Flatten(),\n",
    "        tf.keras.layers.Dense(16, activation=\"relu\"),\n",
    "        tf.keras.layers.Dense(10, activation=\"softmax\")\n",
    "    ])\n",
    "    cnn_model.compile(loss=\"sparse_categorical_crossentropy\", optimizer=\"adam\", metrics=[\"acc\"])\n",
    "    return cnn_model"
   ]
  },
  {
   "cell_type": "markdown",
   "metadata": {},
   "source": [
    "`KerasClassifier`는 모델 만드는 함수를 인자로 받는다."
   ]
  },
  {
   "cell_type": "code",
   "execution_count": 7,
   "metadata": {},
   "outputs": [],
   "source": [
    "kc = KerasClassifier(build_fn=build_model)"
   ]
  },
  {
   "cell_type": "markdown",
   "metadata": {},
   "source": [
    "scikit-learn에서는 `fit`할 때 무조건 2차원 데이터만 받을 수 있었다.  \n",
    "keras의 wrapper 모듈을 이용하면 input에 3차원 이상의 데이터도 사용할 수 있다."
   ]
  },
  {
   "cell_type": "code",
   "execution_count": 9,
   "metadata": {},
   "outputs": [
    {
     "name": "stdout",
     "output_type": "stream",
     "text": [
      "Train on 60000 samples\n",
      "60000/60000 [==============================] - 24s 397us/sample - loss: 0.2199 - acc: 0.9330\n"
     ]
    },
    {
     "data": {
      "text/plain": [
       "<tensorflow.python.keras.callbacks.History at 0x1df9a5cfe48>"
      ]
     },
     "execution_count": 9,
     "metadata": {},
     "output_type": "execute_result"
    }
   ],
   "source": [
    "kc.fit(X_train, y_train)"
   ]
  },
  {
   "cell_type": "markdown",
   "metadata": {},
   "source": [
    "`epochs` 옵션은 인스턴스할 때 넣는 것이 좋다.  \n",
    "`fit`에 넣을 수도 있지만, 인스턴스할 때 넣으면 `get_params`에 등재되어 scikit-learn의 `GridSearchCV` 같은 기능과 연동하기 좋다."
   ]
  },
  {
   "cell_type": "code",
   "execution_count": 10,
   "metadata": {},
   "outputs": [],
   "source": [
    "kc = KerasClassifier(build_model, epochs=2, verbose=2)"
   ]
  },
  {
   "cell_type": "code",
   "execution_count": 11,
   "metadata": {},
   "outputs": [
    {
     "name": "stdout",
     "output_type": "stream",
     "text": [
      "Train on 60000 samples\n",
      "Epoch 1/2\n",
      "60000/60000 - 22s - loss: 0.2189 - acc: 0.9335\n",
      "Epoch 2/2\n",
      "60000/60000 - 22s - loss: 0.0651 - acc: 0.9803\n"
     ]
    },
    {
     "data": {
      "text/plain": [
       "<tensorflow.python.keras.callbacks.History at 0x1df9bb7a0f0>"
      ]
     },
     "execution_count": 11,
     "metadata": {},
     "output_type": "execute_result"
    }
   ],
   "source": [
    "kc.fit(X_train, y_train)"
   ]
  },
  {
   "cell_type": "markdown",
   "metadata": {},
   "source": [
    "### learning_curve와 연동"
   ]
  },
  {
   "cell_type": "markdown",
   "metadata": {},
   "source": [
    "scikit-learn의 `learning_curve`함수와 연동된다."
   ]
  },
  {
   "cell_type": "code",
   "execution_count": 12,
   "metadata": {},
   "outputs": [],
   "source": [
    "from sklearn.model_selection import learning_curve"
   ]
  },
  {
   "cell_type": "code",
   "execution_count": 13,
   "metadata": {},
   "outputs": [
    {
     "name": "stdout",
     "output_type": "stream",
     "text": [
      "Train on 4000 samples\n",
      "Epoch 1/2\n",
      "4000/4000 - 2s - loss: 1.1392 - acc: 0.6503\n",
      "Epoch 2/2\n",
      "4000/4000 - 2s - loss: 0.2948 - acc: 0.9130\n",
      "20000/1 - 4s - loss: 0.2052 - acc: 0.9280\n",
      "4000/1 - 1s - loss: 0.2047 - acc: 0.9392\n",
      "Train on 13000 samples\n",
      "Epoch 1/2\n",
      "13000/13000 - 7s - loss: 0.6476 - acc: 0.8101\n",
      "Epoch 2/2\n",
      "13000/13000 - 5s - loss: 0.1768 - acc: 0.9465\n",
      "20000/1 - 3s - loss: 0.0935 - acc: 0.9581\n",
      "13000/1 - 2s - loss: 0.0592 - acc: 0.9658\n",
      "Train on 22000 samples\n",
      "Epoch 1/2\n",
      "22000/22000 - 10s - loss: 0.4414 - acc: 0.8655\n",
      "Epoch 2/2\n",
      "22000/22000 - 9s - loss: 0.1310 - acc: 0.9607\n",
      "20000/1 - 3s - loss: 0.0800 - acc: 0.9602\n",
      "22000/1 - 3s - loss: 0.0802 - acc: 0.9674\n",
      "Train on 31000 samples\n",
      "Epoch 1/2\n",
      "31000/31000 - 14s - loss: 0.3649 - acc: 0.8869\n",
      "Epoch 2/2\n",
      "31000/31000 - 13s - loss: 0.1077 - acc: 0.9661\n",
      "20000/1 - 3s - loss: 0.0566 - acc: 0.9729\n",
      "31000/1 - 5s - loss: 0.0496 - acc: 0.9769\n",
      "Train on 40000 samples\n",
      "Epoch 1/2\n",
      "40000/40000 - 18s - loss: 0.3091 - acc: 0.9013\n",
      "Epoch 2/2\n",
      "40000/40000 - 18s - loss: 0.0910 - acc: 0.9723\n",
      "20000/1 - 3s - loss: 0.0475 - acc: 0.9722\n",
      "40000/1 - 6s - loss: 0.0451 - acc: 0.9774\n",
      "Train on 4000 samples\n",
      "Epoch 1/2\n",
      "4000/4000 - 3s - loss: 1.2873 - acc: 0.5955\n",
      "Epoch 2/2\n",
      "4000/4000 - 2s - loss: 0.3358 - acc: 0.9022\n",
      "20000/1 - 4s - loss: 0.2775 - acc: 0.9085\n",
      "4000/1 - 1s - loss: 0.2568 - acc: 0.9352\n",
      "Train on 13000 samples\n",
      "Epoch 1/2\n",
      "13000/13000 - 7s - loss: 0.6170 - acc: 0.8062\n",
      "Epoch 2/2\n",
      "13000/13000 - 6s - loss: 0.1605 - acc: 0.9515\n",
      "20000/1 - 3s - loss: 0.0927 - acc: 0.9563\n",
      "13000/1 - 2s - loss: 0.1279 - acc: 0.9665\n",
      "Train on 22000 samples\n",
      "Epoch 1/2\n",
      "22000/22000 - 12s - loss: 0.4353 - acc: 0.8679\n",
      "Epoch 2/2\n",
      "22000/22000 - 11s - loss: 0.1223 - acc: 0.9634\n",
      "20000/1 - 3s - loss: 0.0637 - acc: 0.9705\n",
      "22000/1 - 4s - loss: 0.1258 - acc: 0.9753\n",
      "Train on 31000 samples\n",
      "Epoch 1/2\n",
      "31000/31000 - 14s - loss: 0.4455 - acc: 0.8560\n",
      "Epoch 2/2\n",
      "31000/31000 - 13s - loss: 0.1232 - acc: 0.9639\n",
      "20000/1 - 3s - loss: 0.0557 - acc: 0.9725\n",
      "31000/1 - 4s - loss: 0.0528 - acc: 0.9764\n",
      "Train on 40000 samples\n",
      "Epoch 1/2\n",
      "40000/40000 - 17s - loss: 0.3330 - acc: 0.8984\n",
      "Epoch 2/2\n",
      "40000/40000 - 16s - loss: 0.1001 - acc: 0.9706\n",
      "20000/1 - 3s - loss: 0.0895 - acc: 0.9678\n",
      "40000/1 - 5s - loss: 0.0578 - acc: 0.9699\n",
      "Train on 4000 samples\n",
      "Epoch 1/2\n",
      "4000/4000 - 2s - loss: 1.2629 - acc: 0.5847\n",
      "Epoch 2/2\n",
      "4000/4000 - 2s - loss: 0.3405 - acc: 0.8988\n",
      "20000/1 - 3s - loss: 0.1911 - acc: 0.9024\n",
      "4000/1 - 1s - loss: 0.2451 - acc: 0.9308\n",
      "Train on 13000 samples\n",
      "Epoch 1/2\n",
      "13000/13000 - 6s - loss: 0.6031 - acc: 0.8210\n",
      "Epoch 2/2\n",
      "13000/13000 - 5s - loss: 0.1924 - acc: 0.9446\n",
      "20000/1 - 3s - loss: 0.1256 - acc: 0.9397\n",
      "13000/1 - 2s - loss: 0.2286 - acc: 0.9509\n",
      "Train on 22000 samples\n",
      "Epoch 1/2\n",
      "22000/22000 - 9s - loss: 0.4283 - acc: 0.8688\n",
      "Epoch 2/2\n",
      "22000/22000 - 9s - loss: 0.1274 - acc: 0.9608\n",
      "20000/1 - 3s - loss: 0.0647 - acc: 0.9653\n",
      "22000/1 - 3s - loss: 0.0631 - acc: 0.9720\n",
      "Train on 31000 samples\n",
      "Epoch 1/2\n",
      "31000/31000 - 13s - loss: 0.3011 - acc: 0.9095\n",
      "Epoch 2/2\n",
      "31000/31000 - 13s - loss: 0.0896 - acc: 0.9738\n",
      "20000/1 - 3s - loss: 0.0514 - acc: 0.9744\n",
      "31000/1 - 4s - loss: 0.0928 - acc: 0.9796\n",
      "Train on 40000 samples\n",
      "Epoch 1/2\n",
      "40000/40000 - 17s - loss: 0.2592 - acc: 0.9234\n",
      "Epoch 2/2\n",
      "40000/40000 - 15s - loss: 0.0878 - acc: 0.9733\n",
      "20000/1 - 3s - loss: 0.0464 - acc: 0.9739\n",
      "40000/1 - 5s - loss: 0.0390 - acc: 0.9785\n"
     ]
    }
   ],
   "source": [
    "train_size, train_score, test_score = learning_curve(kc, X_train, y_train, cv=3)"
   ]
  },
  {
   "cell_type": "code",
   "execution_count": 14,
   "metadata": {},
   "outputs": [],
   "source": [
    "from sklearn_evaluation import plot"
   ]
  },
  {
   "cell_type": "code",
   "execution_count": 16,
   "metadata": {},
   "outputs": [
    {
     "data": {
      "text/plain": [
       "<matplotlib.axes._subplots.AxesSubplot at 0x1dfa61107f0>"
      ]
     },
     "execution_count": 16,
     "metadata": {},
     "output_type": "execute_result"
    },
    {
     "data": {
      "image/png": "[encoded data removed]",
      "text/plain": [
       "<Figure size 432x288 with 1 Axes>"
      ]
     },
     "metadata": {
      "needs_background": "light"
     },
     "output_type": "display_data"
    }
   ],
   "source": [
    "plot.learning_curve(train_score, test_score, train_size)"
   ]
  },
  {
   "cell_type": "markdown",
   "metadata": {},
   "source": [
    "### GridSearchCV와 연동"
   ]
  },
  {
   "cell_type": "markdown",
   "metadata": {},
   "source": [
    "`GridSearchCV`와 연동하기 위해서는 모델 만드는 함수에 인자가 있어야한다.  \n",
    "이 인자는 반드시 default value가 있어야 한다."
   ]
  },
  {
   "cell_type": "code",
   "execution_count": 6,
   "metadata": {},
   "outputs": [],
   "source": [
    "def build_model(act=\"relu\"):\n",
    "    cnn_model = tf.keras.Sequential([\n",
    "        tf.keras.layers.Conv2D(16, (3,3), activation=act, input_shape=(28,28,1)),\n",
    "        tf.keras.layers.MaxPool2D((2,2)),\n",
    "        tf.keras.layers.Conv2D(32, (3,3), activation=act),\n",
    "        tf.keras.layers.MaxPool2D((2,2)),\n",
    "        tf.keras.layers.Flatten(),\n",
    "        tf.keras.layers.Dense(16, activation=act),\n",
    "        tf.keras.layers.Dense(10, activation=\"softmax\")\n",
    "    ])\n",
    "    cnn_model.compile(loss=\"sparse_categorical_crossentropy\", optimizer=\"adam\", metrics=[\"acc\"])\n",
    "    return cnn_model"
   ]
  },
  {
   "cell_type": "code",
   "execution_count": 8,
   "metadata": {},
   "outputs": [],
   "source": [
    "kc = KerasClassifier(build_model, epochs=1, verbose=2)"
   ]
  },
  {
   "cell_type": "code",
   "execution_count": 9,
   "metadata": {},
   "outputs": [],
   "source": [
    "from sklearn.model_selection import GridSearchCV"
   ]
  },
  {
   "cell_type": "code",
   "execution_count": 10,
   "metadata": {},
   "outputs": [
    {
     "data": {
      "text/plain": [
       "{'epochs': 1,\n",
       " 'verbose': 2,\n",
       " 'build_fn': <function __main__.build_model(act='relu')>}"
      ]
     },
     "execution_count": 10,
     "metadata": {},
     "output_type": "execute_result"
    }
   ],
   "source": [
    "# build_fn에 해당하는 함수(build_model)의 파라미터를 param_grid에 사용할 수 있다. \n",
    "kc.get_params()"
   ]
  },
  {
   "cell_type": "code",
   "execution_count": 12,
   "metadata": {},
   "outputs": [],
   "source": [
    "grid = GridSearchCV(kc, param_grid={\"act\":[\"sigmoid\", \"tanh\", \"relu\"]}, cv=2)"
   ]
  },
  {
   "cell_type": "code",
   "execution_count": 15,
   "metadata": {},
   "outputs": [
    {
     "name": "stdout",
     "output_type": "stream",
     "text": [
      "Train on 30000 samples\n",
      "30000/30000 - 13s - loss: 1.5271 - acc: 0.5437\n",
      "30000/1 - 4s - loss: 0.6954 - acc: 0.8728\n",
      "Train on 30000 samples\n",
      "30000/30000 - 14s - loss: 1.5345 - acc: 0.5436\n",
      "30000/1 - 4s - loss: 0.6055 - acc: 0.8663\n",
      "Train on 30000 samples\n",
      "30000/30000 - 13s - loss: 0.4076 - acc: 0.9042\n",
      "30000/1 - 5s - loss: 0.2087 - acc: 0.9565\n",
      "Train on 30000 samples\n",
      "30000/30000 - 15s - loss: 0.3937 - acc: 0.9046\n",
      "30000/1 - 8s - loss: 0.0875 - acc: 0.9641\n",
      "Train on 30000 samples\n",
      "30000/30000 - 16s - loss: 0.3749 - acc: 0.8870\n",
      "30000/1 - 5s - loss: 0.1306 - acc: 0.9654\n",
      "Train on 30000 samples\n",
      "30000/30000 - 15s - loss: 0.3127 - acc: 0.9056\n",
      "30000/1 - 4s - loss: 0.0690 - acc: 0.9600\n",
      "Train on 60000 samples\n",
      "60000/60000 - 31s - loss: 0.2329 - acc: 0.9304\n"
     ]
    },
    {
     "data": {
      "text/plain": [
       "GridSearchCV(cv=2, error_score=nan,\n",
       "             estimator=<tensorflow.python.keras.wrappers.scikit_learn.KerasClassifier object at 0x000001D5C3DE2E10>,\n",
       "             iid='deprecated', n_jobs=None,\n",
       "             param_grid={'act': ['sigmoid', 'tanh', 'relu']},\n",
       "             pre_dispatch='2*n_jobs', refit=True, return_train_score=False,\n",
       "             scoring=None, verbose=0)"
      ]
     },
     "execution_count": 15,
     "metadata": {},
     "output_type": "execute_result"
    }
   ],
   "source": [
    "grid.fit(X_train, y_train)"
   ]
  },
  {
   "cell_type": "markdown",
   "metadata": {},
   "source": [
    "역시 relu가 가장 성능이 좋다."
   ]
  },
  {
   "cell_type": "code",
   "execution_count": 16,
   "metadata": {},
   "outputs": [],
   "source": [
    "import pandas as pd"
   ]
  },
  {
   "cell_type": "code",
   "execution_count": 19,
   "metadata": {},
   "outputs": [
    {
     "data": {
      "text/html": [
       "<div>\n",
       "<style scoped>\n",
       "    .dataframe tbody tr th:only-of-type {\n",
       "        vertical-align: middle;\n",
       "    }\n",
       "\n",
       "    .dataframe tbody tr th {\n",
       "        vertical-align: top;\n",
       "    }\n",
       "\n",
       "    .dataframe thead th {\n",
       "        text-align: right;\n",
       "    }\n",
       "</style>\n",
       "<table border=\"1\" class=\"dataframe\">\n",
       "  <thead>\n",
       "    <tr style=\"text-align: right;\">\n",
       "      <th></th>\n",
       "      <th>0</th>\n",
       "      <th>1</th>\n",
       "      <th>2</th>\n",
       "    </tr>\n",
       "  </thead>\n",
       "  <tbody>\n",
       "    <tr>\n",
       "      <th>mean_fit_time</th>\n",
       "      <td>13.5545</td>\n",
       "      <td>14.3665</td>\n",
       "      <td>15.7045</td>\n",
       "    </tr>\n",
       "    <tr>\n",
       "      <th>std_fit_time</th>\n",
       "      <td>0.657766</td>\n",
       "      <td>0.920204</td>\n",
       "      <td>0.473299</td>\n",
       "    </tr>\n",
       "    <tr>\n",
       "      <th>mean_score_time</th>\n",
       "      <td>4.47076</td>\n",
       "      <td>6.51456</td>\n",
       "      <td>4.67474</td>\n",
       "    </tr>\n",
       "    <tr>\n",
       "      <th>std_score_time</th>\n",
       "      <td>0.0538045</td>\n",
       "      <td>1.59549</td>\n",
       "      <td>0.274561</td>\n",
       "    </tr>\n",
       "    <tr>\n",
       "      <th>param_act</th>\n",
       "      <td>sigmoid</td>\n",
       "      <td>tanh</td>\n",
       "      <td>relu</td>\n",
       "    </tr>\n",
       "    <tr>\n",
       "      <th>params</th>\n",
       "      <td>{'act': 'sigmoid'}</td>\n",
       "      <td>{'act': 'tanh'}</td>\n",
       "      <td>{'act': 'relu'}</td>\n",
       "    </tr>\n",
       "    <tr>\n",
       "      <th>split0_test_score</th>\n",
       "      <td>0.8728</td>\n",
       "      <td>0.956467</td>\n",
       "      <td>0.965433</td>\n",
       "    </tr>\n",
       "    <tr>\n",
       "      <th>split1_test_score</th>\n",
       "      <td>0.8663</td>\n",
       "      <td>0.964133</td>\n",
       "      <td>0.960033</td>\n",
       "    </tr>\n",
       "    <tr>\n",
       "      <th>mean_test_score</th>\n",
       "      <td>0.86955</td>\n",
       "      <td>0.9603</td>\n",
       "      <td>0.962733</td>\n",
       "    </tr>\n",
       "    <tr>\n",
       "      <th>std_test_score</th>\n",
       "      <td>0.00325</td>\n",
       "      <td>0.00383332</td>\n",
       "      <td>0.0027</td>\n",
       "    </tr>\n",
       "    <tr>\n",
       "      <th>rank_test_score</th>\n",
       "      <td>3</td>\n",
       "      <td>2</td>\n",
       "      <td>1</td>\n",
       "    </tr>\n",
       "  </tbody>\n",
       "</table>\n",
       "</div>"
      ],
      "text/plain": [
       "                                    0                1                2\n",
       "mean_fit_time                 13.5545          14.3665          15.7045\n",
       "std_fit_time                 0.657766         0.920204         0.473299\n",
       "mean_score_time               4.47076          6.51456          4.67474\n",
       "std_score_time              0.0538045          1.59549         0.274561\n",
       "param_act                     sigmoid             tanh             relu\n",
       "params             {'act': 'sigmoid'}  {'act': 'tanh'}  {'act': 'relu'}\n",
       "split0_test_score              0.8728         0.956467         0.965433\n",
       "split1_test_score              0.8663         0.964133         0.960033\n",
       "mean_test_score               0.86955           0.9603         0.962733\n",
       "std_test_score                0.00325       0.00383332           0.0027\n",
       "rank_test_score                     3                2                1"
      ]
     },
     "execution_count": 19,
     "metadata": {},
     "output_type": "execute_result"
    }
   ],
   "source": [
    "pd.DataFrame(grid.cv_results_).T"
   ]
  },
  {
   "cell_type": "code",
   "execution_count": null,
   "metadata": {},
   "outputs": [],
   "source": []
  }
 ],
 "metadata": {
  "kernelspec": {
   "display_name": "Python 3",
   "language": "python",
   "name": "python3"
  },
  "language_info": {
   "codemirror_mode": {
    "name": "ipython",
    "version": 3
   },
   "file_extension": ".py",
   "mimetype": "text/x-python",
   "name": "python",
   "nbconvert_exporter": "python",
   "pygments_lexer": "ipython3",
   "version": "3.7.3"
  },
  "toc": {
   "base_numbering": 1,
   "nav_menu": {},
   "number_sections": true,
   "sideBar": true,
   "skip_h1_title": true,
   "title_cell": "Table of Contents",
   "title_sidebar": "Contents",
   "toc_cell": true,
   "toc_position": {},
   "toc_section_display": true,
   "toc_window_display": true
  },
  "varInspector": {
   "cols": {
    "lenName": 16,
    "lenType": 16,
    "lenVar": 40
   },
   "kernels_config": {
    "python": {
     "delete_cmd_postfix": "",
     "delete_cmd_prefix": "del ",
     "library": "var_list.py",
     "varRefreshCmd": "print(var_dic_list())"
    },
    "r": {
     "delete_cmd_postfix": ") ",
     "delete_cmd_prefix": "rm(",
     "library": "var_list.r",
     "varRefreshCmd": "cat(var_dic_list()) "
    }
   },
   "types_to_exclude": [
    "module",
    "function",
    "builtin_function_or_method",
    "instance",
    "_Feature"
   ],
   "window_display": false
  }
 },
 "nbformat": 4,
 "nbformat_minor": 2
}
